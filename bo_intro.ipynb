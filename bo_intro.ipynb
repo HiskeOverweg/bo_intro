{
  "nbformat": 4,
  "nbformat_minor": 0,
  "metadata": {
    "colab": {
      "name": "bo_intro.ipynb",
      "provenance": [],
      "collapsed_sections": [],
      "authorship_tag": "ABX9TyOla1OBiR6Gp6bcPpGlpKK6",
      "include_colab_link": true
    },
    "kernelspec": {
      "name": "python3",
      "display_name": "Python 3"
    }
  },
  "cells": [
    {
      "cell_type": "markdown",
      "metadata": {
        "id": "view-in-github",
        "colab_type": "text"
      },
      "source": [
        "<a href=\"https://colab.research.google.com/github/HiskeOverweg/bo_intro/blob/master/bo_intro.ipynb\" target=\"_parent\"><img src=\"https://colab.research.google.com/assets/colab-badge.svg\" alt=\"Open In Colab\"/></a>"
      ]
    },
    {
      "cell_type": "markdown",
      "metadata": {
        "id": "EyEAowGDYVhZ"
      },
      "source": [
        "# Introduction to Bayesian optimization"
      ]
    },
    {
      "cell_type": "markdown",
      "metadata": {
        "id": "g2IBhfw6RQLK"
      },
      "source": [
        "You can run a cell by clicking on it and pressing shift+Enter. The cell below will install some required packages"
      ]
    },
    {
      "cell_type": "code",
      "metadata": {
        "id": "Ch2mCpaqYLAR"
      },
      "source": [
        "!pip install git+https://github.com/HiskeOverweg/bo_intro.git --upgrade\n",
        "!pip install botorch"
      ],
      "execution_count": null,
      "outputs": []
    },
    {
      "cell_type": "code",
      "metadata": {
        "id": "5Bbh74XxYLuZ",
        "outputId": "270cf270-62ae-456c-cb5f-e252ea4ab887",
        "colab": {
          "base_uri": "https://localhost:8080/"
        }
      },
      "source": [
        "import numpy as np\n",
        "import sys\n",
        "import matplotlib.pyplot as plt\n",
        "import torch\n",
        "import botorch\n",
        "import gpytorch\n",
        "import bo_intro.datasets\n",
        "from bo_intro.run_bayesian_optimization import run_bo_experiment\n",
        "\n",
        "print(\"This notebook was tested with:\")\n",
        "print(\"python version: %s \" % sys.version)\n",
        "print(\"numpy version: %s\" %  np.__version__)\n",
        "print(\"torch version: %s\" %  torch.__version__)\n",
        "print(\"botorch version: %s\" %  botorch.__version__)\n",
        "print(\"gpytorch version: %s\" %  gpytorch.__version__)"
      ],
      "execution_count": null,
      "outputs": [
        {
          "output_type": "stream",
          "name": "stdout",
          "text": [
            "This notebook was tested with:\n",
            "python version: 3.7.12 (default, Sep 10 2021, 00:21:48) \n",
            "[GCC 7.5.0] \n",
            "numpy version: 1.19.5\n",
            "torch version: 1.10.0+cu111\n",
            "botorch version: 0.6.0\n",
            "gpytorch version: 1.6.0\n"
          ]
        }
      ]
    },
    {
      "cell_type": "markdown",
      "metadata": {
        "id": "N_flOrPJfCcJ"
      },
      "source": [
        "##Finding the maximum of the sine function on the interval [0, 2$\\pi$]\n",
        "\n",
        "We can run Bayesian optimization with 1 random starting point and 20 iterations on the sine function as follows:"
      ]
    },
    {
      "cell_type": "code",
      "metadata": {
        "id": "cOTrjZtRkt0S"
      },
      "source": [
        "config =  {'iterations':20, 'initial_observations':1, 'dataset':'sine', 'acquisition_function':'ei', 'noise':0}\n",
        "x, y = run_bo_experiment(config, print_progress=True, seed=0)"
      ],
      "execution_count": null,
      "outputs": []
    },
    {
      "cell_type": "markdown",
      "metadata": {
        "id": "g4p8ZK7MfU60"
      },
      "source": [
        "**Exercise 1** Plot a sine function and the datapoints x, y queried by the Bayesian optimization algorithm"
      ]
    },
    {
      "cell_type": "code",
      "metadata": {
        "id": "MY3U3rMXfRaM"
      },
      "source": [
        ""
      ],
      "execution_count": null,
      "outputs": []
    },
    {
      "cell_type": "markdown",
      "metadata": {
        "id": "n2E9qm8QuYfM"
      },
      "source": [
        "Let's fit a Gaussian process to the complete dataset. We can plot its mean and the confidence bound (2 standard deviations away from the mean)."
      ]
    },
    {
      "cell_type": "code",
      "metadata": {
        "id": "p5cS0-tguXWk"
      },
      "source": [
        "def plot_gaussian_process(x, y):\n",
        "  dataset = bo_intro.datasets.Sine()\n",
        "  x_scaled = dataset.scale(torch.from_numpy(x))\n",
        "\n",
        "  gaussian_process = botorch.models.SingleTaskGP(x_scaled, torch.from_numpy(y))\n",
        "  mll = gpytorch.mlls.ExactMarginalLogLikelihood(likelihood=gaussian_process.likelihood, model=gaussian_process)\n",
        "  botorch.fit.fit_gpytorch_model(mll)\n",
        "\n",
        "  x_test = torch.linspace(0, 1, 20, dtype=torch.double).unsqueeze(dim=1)\n",
        "  posterior = gaussian_process.posterior(x_test)\n",
        "  lower, upper = posterior.mvn.confidence_region()\n",
        "\n",
        "  plt.plot(dataset.rescale(x_test), posterior.mean.detach())\n",
        "  plt.plot(x, y, 'o')\n",
        "  plt.fill_between(dataset.rescale(x_test).squeeze(), lower.detach(), upper.detach(), alpha=0.5);\n",
        "  plt.xlim([0, 2*np.pi]);\n",
        "\n",
        "plot_gaussian_process(x, y)"
      ],
      "execution_count": null,
      "outputs": []
    },
    {
      "cell_type": "markdown",
      "metadata": {
        "id": "5scYH8dB1h2c"
      },
      "source": [
        "**Exercise 2** Do you understand the shape of the confidence bound?"
      ]
    },
    {
      "cell_type": "markdown",
      "metadata": {
        "id": "ikoZlMgfgOMA"
      },
      "source": [
        "**Exercise 3** Try adding some noise to the observations by adapting the 'noise' value in the config dictionary. The corresponding value is the standard deviation of the Gaussian distributed noise. Plot the obtained x and y values. Is the position of the maximum close to the expected maximum at $\\pi$/2?"
      ]
    },
    {
      "cell_type": "code",
      "metadata": {
        "id": "d7d7Ca5KnN-G"
      },
      "source": [
        ""
      ],
      "execution_count": null,
      "outputs": []
    },
    {
      "cell_type": "markdown",
      "metadata": {
        "id": "i9Gee2BLglhd"
      },
      "source": [
        "##Regret\n",
        "\n",
        "The regret is defined as the difference between the true maximum of the function and the best value found so far.\n",
        "\n",
        "**Exercise 4** Plot the regret for a dataset *without* any added noise, as a function of iteration number, using a logarithmic y-axis"
      ]
    },
    {
      "cell_type": "code",
      "metadata": {
        "id": "fT0LbC20fwoz"
      },
      "source": [
        "running_max = np.maximum.accumulate(y)"
      ],
      "execution_count": null,
      "outputs": []
    },
    {
      "cell_type": "markdown",
      "metadata": {
        "id": "HXd2IyyQh6-0"
      },
      "source": [
        "Since Bayesian optimization is a stochastic algorithm it can be useful to evaluate the regret over a few different initializations of the algorithm.\n",
        "\n",
        "**Exercise 5** Run the algorithm 5 times with different random seeds and make a plot of the average regret as a function of iteration number"
      ]
    },
    {
      "cell_type": "code",
      "metadata": {
        "id": "BddupzBGB2cA"
      },
      "source": [
        ""
      ],
      "execution_count": null,
      "outputs": []
    },
    {
      "cell_type": "markdown",
      "metadata": {
        "id": "Bd2PN-rnipUE"
      },
      "source": [
        "##Comparing acquisition functions\n",
        "\n",
        "Let us now compare a few acquisition functions. You can specify the key 'acquisition_function' in the config dictionary to switch to 'random' or 'ucb' (Upper Confidence Bound).\n",
        "\n",
        "**Exercise 6** Repeat exercise 5 with a random acquisition function. Which acquisition function leads to the lowest regret?"
      ]
    },
    {
      "cell_type": "code",
      "metadata": {
        "id": "vXjrj8vQFklY"
      },
      "source": [
        ""
      ],
      "execution_count": null,
      "outputs": []
    },
    {
      "cell_type": "markdown",
      "metadata": {
        "id": "oN7sQZ5jam6I"
      },
      "source": [
        "##Exploring vs exploiting\n",
        "The upper confidence bound acquisition function is defined as $\\mu + \\beta \\sigma$, where $\\mu$ and $\\sigma$ are the mean and standard deviation of the Gaussian process and $\\beta$ is a constant. By increasing $\\beta$ we can make the search more explorative. The default value is $\\beta = 3$, but you can change it by specifying for instance 'beta':500 in the config dictionary.\n",
        "\n",
        "**Exercise 7** Plot a sine function and the datapoints x, y queried by the Bayesian optimization algorithm with ucb acquisition function and 'beta':500. What happens if you set the noise parameter to 0.5?"
      ]
    },
    {
      "cell_type": "code",
      "metadata": {
        "id": "xHv5wpKei-jG"
      },
      "source": [
        ""
      ],
      "execution_count": null,
      "outputs": []
    },
    {
      "cell_type": "markdown",
      "metadata": {
        "id": "R3lmGYd9imoi"
      },
      "source": [
        "## Optimizing a 2-dimensional function\n",
        "\n",
        "**Exercise 8** Try optimizing the [negative Branin function](https://www.sfu.ca/~ssurjano/branin.html) by specifying 'dataset':'branin' in the config dictionary. Make a plot of regret vs iteration number"
      ]
    },
    {
      "cell_type": "code",
      "metadata": {
        "id": "ByF4m2L_HLlF"
      },
      "source": [
        ""
      ],
      "execution_count": null,
      "outputs": []
    }
  ]
}