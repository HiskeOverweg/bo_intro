{
  "nbformat": 4,
  "nbformat_minor": 0,
  "metadata": {
    "colab": {
      "name": "bo_intro.ipynb",
      "provenance": [],
      "collapsed_sections": [],
      "authorship_tag": "ABX9TyPVNpKR3hvnXr5qOAj/pZup",
      "include_colab_link": true
    },
    "kernelspec": {
      "name": "python3",
      "display_name": "Python 3"
    }
  },
  "cells": [
    {
      "cell_type": "markdown",
      "metadata": {
        "id": "view-in-github",
        "colab_type": "text"
      },
      "source": [
        "<a href=\"https://colab.research.google.com/github/HiskeOverweg/bo_intro/blob/master/bo_intro.ipynb\" target=\"_parent\"><img src=\"https://colab.research.google.com/assets/colab-badge.svg\" alt=\"Open In Colab\"/></a>"
      ]
    },
    {
      "cell_type": "markdown",
      "metadata": {
        "id": "EyEAowGDYVhZ"
      },
      "source": [
        "# Introduction to Bayesian optimization"
      ]
    },
    {
      "cell_type": "markdown",
      "metadata": {
        "id": "g2IBhfw6RQLK"
      },
      "source": [
        "You can run a cell by clicking on it and pressing shift+Enter. The cell below will install some required packages"
      ]
    },
    {
      "cell_type": "code",
      "metadata": {
        "id": "Ch2mCpaqYLAR",
        "colab": {
          "base_uri": "https://localhost:8080/"
        },
        "outputId": "ee9f111d-221f-4b20-a5a8-4b4ae48be716"
      },
      "source": [
        "!pip install git+https://github.com/HiskeOverweg/bo_intro.git --upgrade\n",
        "!pip install botorch"
      ],
      "execution_count": 1,
      "outputs": [
        {
          "output_type": "stream",
          "text": [
            "Collecting git+https://github.com/HiskeOverweg/bo_intro.git\n",
            "  Cloning https://github.com/HiskeOverweg/bo_intro.git to /tmp/pip-req-build-xgpxvzkt\n",
            "  Running command git clone -q https://github.com/HiskeOverweg/bo_intro.git /tmp/pip-req-build-xgpxvzkt\n",
            "Building wheels for collected packages: bo-intro\n",
            "  Building wheel for bo-intro (setup.py) ... \u001b[?25l\u001b[?25hdone\n",
            "  Created wheel for bo-intro: filename=bo_intro-0.1-cp37-none-any.whl size=4075 sha256=586365fa22cf3a73e5fff38a16f6fcee63120b5a56e474bf0e8dc5304edb4a5b\n",
            "  Stored in directory: /tmp/pip-ephem-wheel-cache-wtwrwy_6/wheels/ba/76/c2/d1418048f26d6e4a8f33ccb92738e0d12c26f27fcb4bdcc822\n",
            "Successfully built bo-intro\n",
            "Installing collected packages: bo-intro\n",
            "Successfully installed bo-intro-0.1\n",
            "Collecting botorch\n",
            "\u001b[?25l  Downloading https://files.pythonhosted.org/packages/99/41/21e2aac9ca831a2148ee7da44e00185c791d539c284cf0ebda34cd640e75/botorch-0.4.0-py3-none-any.whl (395kB)\n",
            "\u001b[K     |████████████████████████████████| 399kB 7.5MB/s \n",
            "\u001b[?25hCollecting gpytorch>=1.4\n",
            "\u001b[?25l  Downloading https://files.pythonhosted.org/packages/0f/d0/96634a8ae84b08bd64709c1abd4f319a70f404967c598690bca8be143fb8/gpytorch-1.4.0.tar.gz (286kB)\n",
            "\u001b[K     |████████████████████████████████| 286kB 13.4MB/s \n",
            "\u001b[?25hRequirement already satisfied: torch>=1.7.1 in /usr/local/lib/python3.7/dist-packages (from botorch) (1.8.0+cu101)\n",
            "Requirement already satisfied: scipy in /usr/local/lib/python3.7/dist-packages (from botorch) (1.4.1)\n",
            "Requirement already satisfied: numpy in /usr/local/lib/python3.7/dist-packages (from torch>=1.7.1->botorch) (1.19.5)\n",
            "Requirement already satisfied: typing-extensions in /usr/local/lib/python3.7/dist-packages (from torch>=1.7.1->botorch) (3.7.4.3)\n",
            "Building wheels for collected packages: gpytorch\n",
            "  Building wheel for gpytorch (setup.py) ... \u001b[?25l\u001b[?25hdone\n",
            "  Created wheel for gpytorch: filename=gpytorch-1.4.0-py2.py3-none-any.whl size=477826 sha256=c3ab45709dde097bfbebb15e55e393d320d909fc80cb976ddac731bc2d355138\n",
            "  Stored in directory: /root/.cache/pip/wheels/fd/f5/39/404e1875f841e8a999e94a7efa17f6ef900298be5452b63b0c\n",
            "Successfully built gpytorch\n",
            "Installing collected packages: gpytorch, botorch\n",
            "Successfully installed botorch-0.4.0 gpytorch-1.4.0\n"
          ],
          "name": "stdout"
        }
      ]
    },
    {
      "cell_type": "code",
      "metadata": {
        "id": "5Bbh74XxYLuZ"
      },
      "source": [
        "import numpy as np\n",
        "import matplotlib.pyplot as plt\n",
        "import torch\n",
        "import botorch\n",
        "import gpytorch\n",
        "import bo_intro.datasets\n",
        "from bo_intro.run_bayesian_optimization import run_bo_experiment"
      ],
      "execution_count": 2,
      "outputs": []
    },
    {
      "cell_type": "markdown",
      "metadata": {
        "id": "N_flOrPJfCcJ"
      },
      "source": [
        "##Finding the maximum of the sine function on the interval [0, 2$\\pi$]\n",
        "\n",
        "We can run Bayesian optimization with 1 random starting point and 20 iterations on the sine function as follows:"
      ]
    },
    {
      "cell_type": "code",
      "metadata": {
        "id": "cOTrjZtRkt0S"
      },
      "source": [
        "config =  {'iterations':20, 'initial_observations':1, 'dataset':'sine', 'acquisition_function':'ei', 'noise':0}\n",
        "x, y = run_bo_experiment(config, print_progress=True, seed=0)"
      ],
      "execution_count": null,
      "outputs": []
    },
    {
      "cell_type": "markdown",
      "metadata": {
        "id": "g4p8ZK7MfU60"
      },
      "source": [
        "**Exercise 1** Plot a sine function and the datapoints x, y queried by the Bayesian optimization algorithm"
      ]
    },
    {
      "cell_type": "code",
      "metadata": {
        "id": "MY3U3rMXfRaM"
      },
      "source": [
        ""
      ],
      "execution_count": null,
      "outputs": []
    },
    {
      "cell_type": "markdown",
      "metadata": {
        "id": "n2E9qm8QuYfM"
      },
      "source": [
        "Let's fit a Gaussian process to the complete dataset. We can plot its mean and the confidence bound (2 standard deviations away from the mean)."
      ]
    },
    {
      "cell_type": "code",
      "metadata": {
        "id": "p5cS0-tguXWk"
      },
      "source": [
        "def plot_gaussian_process(x, y):\n",
        "  dataset = bo_intro.datasets.Sine()\n",
        "  x_scaled = dataset.scale(torch.from_numpy(x))\n",
        "\n",
        "  gaussian_process = botorch.models.SingleTaskGP(x_scaled, torch.from_numpy(y))\n",
        "  mll = gpytorch.mlls.ExactMarginalLogLikelihood(likelihood=gaussian_process.likelihood, model=gaussian_process)\n",
        "  botorch.fit.fit_gpytorch_model(mll)\n",
        "\n",
        "  x_test = torch.linspace(0, 1, 20, dtype=torch.double).unsqueeze(dim=1)\n",
        "  posterior = gaussian_process.posterior(x_test)\n",
        "  lower, upper = posterior.mvn.confidence_region()\n",
        "\n",
        "  plt.plot(dataset.rescale(x_test), posterior.mean.detach())\n",
        "  plt.plot(x, y, 'o')\n",
        "  plt.fill_between(dataset.rescale(x_test).squeeze(), lower.detach(), upper.detach(), alpha=0.5);\n",
        "  plt.xlim([0, 2*np.pi]);\n",
        "\n",
        "plot_gaussian_process(x, y)"
      ],
      "execution_count": null,
      "outputs": []
    },
    {
      "cell_type": "markdown",
      "metadata": {
        "id": "5scYH8dB1h2c"
      },
      "source": [
        "**Exercise 2** Do you understand the shape of the confidence bound?"
      ]
    },
    {
      "cell_type": "markdown",
      "metadata": {
        "id": "ikoZlMgfgOMA"
      },
      "source": [
        "**Exercise 3** Try adding some noise to the observations by adapting the 'noise' value in the config dictionary. The corresponding value is the standard deviation of the Gaussian distributed noise. Plot the obtained x and y values. Is the position of the maximum close to the expected maximum at $\\pi$/2?"
      ]
    },
    {
      "cell_type": "code",
      "metadata": {
        "id": "d7d7Ca5KnN-G"
      },
      "source": [
        ""
      ],
      "execution_count": null,
      "outputs": []
    },
    {
      "cell_type": "markdown",
      "metadata": {
        "id": "i9Gee2BLglhd"
      },
      "source": [
        "##Regret\n",
        "\n",
        "The regret is defined as the difference between the true maximum of the function and the best value found so far.\n",
        "\n",
        "**Exercise 4** Plot the regret for a dataset *without* any added noise, as a function of iteration number, using a logarithmic y-axis"
      ]
    },
    {
      "cell_type": "code",
      "metadata": {
        "id": "fT0LbC20fwoz"
      },
      "source": [
        "running_max = np.maximum.accumulate(y)"
      ],
      "execution_count": null,
      "outputs": []
    },
    {
      "cell_type": "markdown",
      "metadata": {
        "id": "HXd2IyyQh6-0"
      },
      "source": [
        "Since Bayesian optimization is a stochastic algorithm it can be useful to evaluate the regret over a few different initializations of the algorithm.\n",
        "\n",
        "**Exercise 5** Run the algorithm 5 times with different random seeds and make a plot of the average regret as a function of iteration number"
      ]
    },
    {
      "cell_type": "code",
      "metadata": {
        "id": "BddupzBGB2cA"
      },
      "source": [
        ""
      ],
      "execution_count": null,
      "outputs": []
    },
    {
      "cell_type": "markdown",
      "metadata": {
        "id": "Bd2PN-rnipUE"
      },
      "source": [
        "##Comparing acquisition functions\n",
        "\n",
        "Let us now compare a few acquisition functions. You can specify the key 'acquisition_function' in the config dictionary to switch to 'random' or 'ucb' (Upper Confidence Bound).\n",
        "\n",
        "**Exercise 6** Repeat exercise 5 with a random acquisition function. Which acquisition function leads to the lowest regret?"
      ]
    },
    {
      "cell_type": "code",
      "metadata": {
        "id": "vXjrj8vQFklY"
      },
      "source": [
        ""
      ],
      "execution_count": null,
      "outputs": []
    },
    {
      "cell_type": "markdown",
      "metadata": {
        "id": "oN7sQZ5jam6I"
      },
      "source": [
        "##Exploring vs exploiting\n",
        "The upper confidence bound acquisition function is defined as $\\mu + \\beta \\sigma$, where $\\mu$ and $\\sigma$ are the mean and standard deviation of the Gaussian process and $\\beta$ is a constant. By increasing $\\beta$ we can make the search more explorative. The default value is $\\beta = 3$, but you can change it by specifying for instance 'beta':500 in the config dictionary.\n",
        "\n",
        "**Exercise 7** Plot a sine function and the datapoints x, y queried by the Bayesian optimization algorithm with ucb acquisition function and 'beta':500."
      ]
    },
    {
      "cell_type": "code",
      "metadata": {
        "id": "xHv5wpKei-jG"
      },
      "source": [
        ""
      ],
      "execution_count": null,
      "outputs": []
    },
    {
      "cell_type": "markdown",
      "metadata": {
        "id": "R3lmGYd9imoi"
      },
      "source": [
        "## Optimizing a 2-dimensional function\n",
        "\n",
        "**Exercise 8** Try optimizing the [negative Branin function](https://www.sfu.ca/~ssurjano/branin.html) by specifying 'dataset':'branin' in the config dictionary. Make a plot of regret vs iteration number"
      ]
    },
    {
      "cell_type": "code",
      "metadata": {
        "id": "ByF4m2L_HLlF"
      },
      "source": [
        ""
      ],
      "execution_count": null,
      "outputs": []
    }
  ]
}