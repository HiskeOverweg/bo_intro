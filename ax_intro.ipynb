{
  "nbformat": 4,
  "nbformat_minor": 0,
  "metadata": {
    "colab": {
      "name": "ax_intro.ipynb",
      "provenance": [],
      "collapsed_sections": [],
      "authorship_tag": "ABX9TyPfLjYkkuZm9Atpx/GrKSZp",
      "include_colab_link": true
    },
    "kernelspec": {
      "name": "python3",
      "display_name": "Python 3"
    },
    "language_info": {
      "name": "python"
    }
  },
  "cells": [
    {
      "cell_type": "markdown",
      "metadata": {
        "id": "view-in-github",
        "colab_type": "text"
      },
      "source": [
        "<a href=\"https://colab.research.google.com/github/HiskeOverweg/bo_intro/blob/master/ax_intro.ipynb\" target=\"_parent\"><img src=\"https://colab.research.google.com/assets/colab-badge.svg\" alt=\"Open In Colab\"/></a>"
      ]
    },
    {
      "cell_type": "markdown",
      "metadata": {
        "id": "CbaEuoe_uP6V"
      },
      "source": [
        "### Introduction to Ax"
      ]
    },
    {
      "cell_type": "code",
      "metadata": {
        "id": "CfdiR-GVuNlc"
      },
      "source": [
        "!pip install ax-platform"
      ],
      "execution_count": null,
      "outputs": []
    },
    {
      "cell_type": "markdown",
      "metadata": {
        "id": "QA-8afY4unOc"
      },
      "source": [
        "###Exercise\n",
        "Try to use Bayesian optimization using the Ax package on any optimization problem you're interested in.\n",
        "There are a few different APIs you can try out, depending on the level of control you'd like to have (choose whichever one you prefer):\n",
        "\n",
        "\n",
        "*   Loop API https://ax.dev/versions/latest/tutorials/gpei_hartmann_loop.html\n",
        "*   Service API https://ax.dev/versions/latest/tutorials/gpei_hartmann_service.html\n",
        "*   Developer API https://ax.dev/versions/latest/tutorials/gpei_hartmann_developer.html\n",
        "\n",
        "\n",
        "The following example on tuning hyperparameters in Pytorch might be a useful resource as well: https://ax.dev/versions/latest/tutorials/tune_cnn.html\n",
        "\n",
        "\n",
        "\n",
        "\n"
      ]
    },
    {
      "cell_type": "code",
      "metadata": {
        "id": "btBSobSevrv3"
      },
      "source": [
        ""
      ],
      "execution_count": null,
      "outputs": []
    }
  ]
}